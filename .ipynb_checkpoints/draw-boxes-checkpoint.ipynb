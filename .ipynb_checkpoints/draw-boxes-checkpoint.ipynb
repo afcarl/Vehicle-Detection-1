{
 "cells": [
  {
   "cell_type": "code",
   "execution_count": 1,
   "metadata": {
    "collapsed": false
   },
   "outputs": [
    {
     "ename": "TypeError",
     "evalue": "__init__() got an unexpected keyword argument 'threshold'",
     "output_type": "error",
     "traceback": [
      "\u001b[0;31m---------------------------------------------------------------------------\u001b[0m",
      "\u001b[0;31mTypeError\u001b[0m                                 Traceback (most recent call last)",
      "\u001b[0;32m<ipython-input-1-aa8e88af9577>\u001b[0m in \u001b[0;36m<module>\u001b[0;34m()\u001b[0m\n\u001b[1;32m      8\u001b[0m \u001b[0;32mfrom\u001b[0m \u001b[0mdetection\u001b[0m\u001b[0;34m.\u001b[0m\u001b[0mconfig\u001b[0m \u001b[0;32mimport\u001b[0m \u001b[0mDetectionConfig\u001b[0m\u001b[0;34m\u001b[0m\u001b[0m\n\u001b[1;32m      9\u001b[0m \u001b[0;34m\u001b[0m\u001b[0m\n\u001b[0;32m---> 10\u001b[0;31m \u001b[0mconfig\u001b[0m \u001b[0;34m=\u001b[0m \u001b[0mDetectionConfig\u001b[0m\u001b[0;34m(\u001b[0m\u001b[0mclassifier_name\u001b[0m\u001b[0;34m=\u001b[0m\u001b[0;34m\"LinearSVC\"\u001b[0m\u001b[0;34m,\u001b[0m \u001b[0mthreshold\u001b[0m\u001b[0;34m=\u001b[0m\u001b[0;36m5\u001b[0m\u001b[0;34m)\u001b[0m\u001b[0;34m\u001b[0m\u001b[0m\n\u001b[0m\u001b[1;32m     11\u001b[0m \u001b[0mroad\u001b[0m \u001b[0;34m=\u001b[0m \u001b[0mRoad\u001b[0m\u001b[0;34m(\u001b[0m\u001b[0mconfig\u001b[0m\u001b[0;34m=\u001b[0m\u001b[0mconfig\u001b[0m\u001b[0;34m)\u001b[0m\u001b[0;34m\u001b[0m\u001b[0m\n",
      "\u001b[0;31mTypeError\u001b[0m: __init__() got an unexpected keyword argument 'threshold'"
     ]
    }
   ],
   "source": [
    "import cv2\n",
    "import numpy as np\n",
    "import matplotlib.pyplot as plt\n",
    "import matplotlib.image as mpimg\n",
    "import time\n",
    "\n",
    "from detection.road import Road\n",
    "from detection.config import DetectionConfig\n",
    "\n",
    "config = DetectionConfig(classifier_name=\"LinearSVC\")\n",
    "road = Road(config=config, threshold=5)"
   ]
  },
  {
   "cell_type": "code",
   "execution_count": null,
   "metadata": {
    "collapsed": false
   },
   "outputs": [],
   "source": [
    "for i in range(1,7):\n",
    "    img = mpimg.imread(\"input_images/test\"+ str(i) +\".jpg\")\n",
    "    road.recent_bboxes = []\n",
    "    processed_image = road.process_image(img)\n",
    "\n",
    "    f, (ax1, ax2, ax3) = plt.subplots(1, 3, figsize=(20,10))\n",
    "    norm = plt.Normalize(vmin=road.threshold_heatmap.min(), vmax=road.threshold_heatmap.max())\n",
    "    norm_heatmap = norm(road.threshold_heatmap)\n",
    "    heatmap_image = (np.dstack((norm_heatmap*255, norm_heatmap, norm_heatmap))).astype(np.uint8)\n",
    "    ax1.imshow(img)\n",
    "    ax2.imshow(heatmap_image)\n",
    "    processed_image = cv2.addWeighted(heatmap_image, 1, processed_image, 1, 0)\n",
    "    ax3.imshow(processed_image)\n",
    "    \n",
    "plt.show()"
   ]
  },
  {
   "cell_type": "code",
   "execution_count": null,
   "metadata": {
    "collapsed": false
   },
   "outputs": [],
   "source": [
    "image = mpimg.imread(\"input_images/test1.jpg\")\n",
    "t=time.time()\n",
    "result = road.process_image(image)\n",
    "print(\"Took {} seconds to find images.\".format(round(time.time()-t, 1)))\n",
    "plt.imshow(result)\n",
    "plt.show()"
   ]
  },
  {
   "cell_type": "code",
   "execution_count": null,
   "metadata": {
    "collapsed": false
   },
   "outputs": [],
   "source": [
    "from detection.data import load_data\n",
    "\n",
    "vehicle_imgs, non_vehicle_imgs = load_data(\"small\")"
   ]
  },
  {
   "cell_type": "code",
   "execution_count": null,
   "metadata": {
    "collapsed": false
   },
   "outputs": [],
   "source": [
    "from detection.extract_features import extract_feature\n",
    "from detection.shared_functions import get_hog_features, convert_color\n",
    "from detection.config import DetectionConfig\n",
    "\n",
    "img = non_vehicle_imgs[101]\n",
    "\n",
    "config = DetectionConfig()\n",
    "hsv_img = convert_color(img, conv='RGB2HSV')\n",
    "hog0, hog_img = get_hog_features(hsv_img[:,:,2], config.orient, config.pix_per_cell, config.cell_per_block, vis=True, transform_sqrt=config.transform_sqrt)\n",
    "\n",
    "plt.imshow(img)\n",
    "plt.show()\n",
    "plt.imshow(hog_img, cmap='gray')\n",
    "plt.show()"
   ]
  }
 ],
 "metadata": {
  "kernelspec": {
   "display_name": "Python 3",
   "language": "python",
   "name": "python3"
  },
  "language_info": {
   "codemirror_mode": {
    "name": "ipython",
    "version": 3
   },
   "file_extension": ".py",
   "mimetype": "text/x-python",
   "name": "python",
   "nbconvert_exporter": "python",
   "pygments_lexer": "ipython3",
   "version": "3.5.2"
  },
  "widgets": {
   "state": {},
   "version": "1.1.2"
  }
 },
 "nbformat": 4,
 "nbformat_minor": 2
}
