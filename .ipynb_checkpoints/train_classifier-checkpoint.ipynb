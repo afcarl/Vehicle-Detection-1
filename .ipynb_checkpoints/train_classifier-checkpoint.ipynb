{
 "cells": [
  {
   "cell_type": "code",
   "execution_count": 1,
   "metadata": {
    "collapsed": false
   },
   "outputs": [],
   "source": [
    "import numpy as np\n",
    "import cv2\n",
    "from detection.extract_features import extract_features\n",
    "from detection.data import load_data"
   ]
  },
  {
   "cell_type": "code",
   "execution_count": 2,
   "metadata": {
    "collapsed": false
   },
   "outputs": [],
   "source": [
    "from sklearn.preprocessing import StandardScaler\n",
    "from sklearn.model_selection import train_test_split\n",
    "from sklearn.ensemble import AdaBoostClassifier\n",
    "import time\n",
    "\n",
    "def train_clf():\n",
    "  features_vehicles = extract_features(vehicle_images, cspace='HSV')\n",
    "  features_non_vehicles = extract_features(non_vehicle_images, cspace='HSV')\n",
    "  # Create an array stack of feature vectors\n",
    "  X = np.vstack((features_vehicles, features_non_vehicles)).astype(np.float64) \n",
    "  # Fit a per-column scaler\n",
    "  X_scaler = StandardScaler().fit(X)\n",
    "  # Apply the scaler to X\n",
    "  scaled_X = X_scaler.transform(X)\n",
    "  # Define the labels vector\n",
    "  y = np.hstack((np.ones(len(features_vehicles)), np.zeros(len(features_non_vehicles))))\n",
    "  # Split up data into randomized training and test sets\n",
    "  rand_state = np.random.randint(0, 100)\n",
    "\n",
    "  X_train, X_test, y_train, y_test = train_test_split(scaled_X, y, test_size=0.2, random_state=rand_state)\n",
    "  clf = AdaBoostClassifier(base_estimator=None, n_estimators=150, learning_rate=1.0, random_state=rand_state)\n",
    "\n",
    "  # Check the training time for the SVC\n",
    "  t=time.time()\n",
    "  clf.fit(X_train, y_train)\n",
    "  t2 = time.time()\n",
    "  print(round(t2-t, 2), 'Seconds to train AdaBoostClassifier...')\n",
    "  # Check the score of the SVC\n",
    "  # Check the prediction time for a single sample\n",
    "  t=time.time()\n",
    "  n_predict_test = len(X_test)\n",
    "  n_predict_train = len(X_train)\n",
    "  print('Test Accuracy of AdaBoostClassifier = ', round(clf.score(X_test, y_test), 4))\n",
    "  print('Train Accuracy of AdaBoostClassifier = ', round(clf.score(X_train, y_train), 4))\n",
    "  # print('My AdaBoostClassifier predicts: ', clf.predict(X_test[0:n_predict]))\n",
    "  # print('For these',n_predict_test, ' test labels: ', y_test[0:n_predict])\n",
    "  t2 = time.time()\n",
    "  print(round(t2-t, 5), 'Seconds to predict', n_predict_test,'test labels and', n_predict_train, 'test labels with AdaBoostClassifier')  \n",
    "\n",
    "# train_clf()\n"
   ]
  },
  {
   "cell_type": "code",
   "execution_count": 3,
   "metadata": {
    "collapsed": false
   },
   "outputs": [
    {
     "name": "stdout",
     "output_type": "stream",
     "text": [
      "/Users/kyledorman/Documents/carnd/vehicleDetection/data/full/vehicle.zip already downloaded.\n",
      "/Users/kyledorman/Documents/carnd/vehicleDetection/data/full/non-vehicle.zip already downloaded.\n",
      "extracting features from 17584 images\n",
      "done extracting features from 17584 images\n",
      "extracting features from 17936 images\n",
      "done extracting features from 17936 images\n",
      "About to train classifier\n",
      "768.03 Seconds to train AdaBoost ...\n",
      "Test Accuracy of AdaBoost = 0.9859\n",
      "Train Accuracy of AdaBoost = 0.9918\n",
      "7.45063 Seconds to predict 7104 test labels and 28416 test labels with AdaBoost\n",
      "Saving classifier\n",
      "Done saving classifier\n",
      "saving scaler\n"
     ]
    },
    {
     "ename": "AttributeError",
     "evalue": "'DetectionConfig' object has no attribute 'sclaer_file'",
     "output_type": "error",
     "traceback": [
      "\u001b[0;31m---------------------------------------------------------------------------\u001b[0m",
      "\u001b[0;31mAttributeError\u001b[0m                            Traceback (most recent call last)",
      "\u001b[0;32m<ipython-input-3-ef2701190874>\u001b[0m in \u001b[0;36m<module>\u001b[0;34m()\u001b[0m\n\u001b[1;32m      1\u001b[0m \u001b[0;32mfrom\u001b[0m \u001b[0mdetection\u001b[0m\u001b[0;34m.\u001b[0m\u001b[0mextract_features\u001b[0m \u001b[0;32mimport\u001b[0m \u001b[0mtrain_classifier\u001b[0m\u001b[0;34m\u001b[0m\u001b[0m\n\u001b[1;32m      2\u001b[0m \u001b[0;34m\u001b[0m\u001b[0m\n\u001b[0;32m----> 3\u001b[0;31m \u001b[0mtrain_classifier\u001b[0m\u001b[0;34m(\u001b[0m\u001b[0;34m)\u001b[0m\u001b[0;34m\u001b[0m\u001b[0m\n\u001b[0m",
      "\u001b[0;32m/Users/kyledorman/Documents/carnd/vehicleDetection/detection/extract_features.py\u001b[0m in \u001b[0;36mtrain_classifier\u001b[0;34m(config)\u001b[0m\n\u001b[1;32m     69\u001b[0m         \u001b[0mprint\u001b[0m\u001b[0;34m(\u001b[0m\u001b[0;34m\"Done saving classifier\"\u001b[0m\u001b[0;34m)\u001b[0m\u001b[0;34m\u001b[0m\u001b[0m\n\u001b[1;32m     70\u001b[0m         \u001b[0mprint\u001b[0m\u001b[0;34m(\u001b[0m\u001b[0;34m\"saving scaler\"\u001b[0m\u001b[0;34m)\u001b[0m\u001b[0;34m\u001b[0m\u001b[0m\n\u001b[0;32m---> 71\u001b[0;31m         \u001b[0msave_pickle_file\u001b[0m\u001b[0;34m(\u001b[0m\u001b[0mconfig\u001b[0m\u001b[0;34m.\u001b[0m\u001b[0msclaer_file\u001b[0m\u001b[0;34m(\u001b[0m\u001b[0;34m)\u001b[0m\u001b[0;34m,\u001b[0m \u001b[0mX_scaler\u001b[0m\u001b[0;34m)\u001b[0m\u001b[0;34m\u001b[0m\u001b[0m\n\u001b[0m\u001b[1;32m     72\u001b[0m         \u001b[0mprint\u001b[0m\u001b[0;34m(\u001b[0m\u001b[0;34m\"done saving scaler\"\u001b[0m\u001b[0;34m)\u001b[0m\u001b[0;34m\u001b[0m\u001b[0m\n\u001b[1;32m     73\u001b[0m \u001b[0;34m\u001b[0m\u001b[0m\n",
      "\u001b[0;31mAttributeError\u001b[0m: 'DetectionConfig' object has no attribute 'sclaer_file'"
     ]
    }
   ],
   "source": [
    "from detection.extract_features import train_classifier\n",
    "\n",
    "train_classifier()"
   ]
  },
  {
   "cell_type": "code",
   "execution_count": null,
   "metadata": {
    "collapsed": true
   },
   "outputs": [],
   "source": [
    "from detection.data import open_pickle_file\n",
    "from detection.config import Config\n",
    "from sklearn.model_selection import train_test_split\n",
    "\n",
    "clf = open_pickle_file(Config().classifier_file(\"AdaBoost\"))\n",
    "scaler = open_pickle_file(Config().scaler_file())\n",
    "\n",
    "vehicle_images, non_vehicle_images = load_data(\"full\")\n",
    "\n",
    "features_vehicles = extract_features(vehicle_images, cspace='HSV')\n",
    "features_non_vehicles = extract_features(non_vehicle_images, cspace='HSV')\n",
    "\n",
    "X = np.vstack((features_vehicles, features_non_vehicles)).astype(np.float64) \n",
    "y = np.hstack((np.ones(len(features_vehicles)), np.zeros(len(features_non_vehicles))))\n",
    "\n",
    "scaled_X = X_scaler.transform(X)\n",
    "rand_state = np.random.randint(0, 100)\n",
    "X_train, X_test, y_train, y_test = train_test_split(scaled_X, y, test_size=0.2, random_state=rand_state)"
   ]
  },
  {
   "cell_type": "code",
   "execution_count": null,
   "metadata": {
    "collapsed": true
   },
   "outputs": [],
   "source": [
    "%matplotlib inline\n",
    "import matplotlib.pyplot as plt\n",
    "from sklearn.metrics import precision_recall_fscore_support\n",
    "y_train_pred = clf.predict(X_train)\n",
    "y_test_pred = clf.predict(X_test)\n",
    "\n",
    "def precision(y_data, y_pred, title):\n",
    "  precision, recall, f1_score, label_count = precision_recall_fscore_support(y_data, y_pred)\n",
    "  \n",
    "  print(precision)\n",
    "  print(recall)\n",
    "  print(f1_score)\n",
    "  \n",
    "  plt.title(\"Precision(r), recall(g), f1_score(b) for \" + title)\n",
    "  plt.plot(range(len(precision)), precision, marker='o', color='r')\n",
    "  plt.plot(range(len(precision)), recall, marker='o', color='g')\n",
    "  plt.plot(range(len(precision)), f1_score, marker='o', color='b')\n",
    "  plt.show()\n",
    "  \n",
    "precision(y_test, y_test_pred, \"test data\")\n",
    "precision(y_train, y_train_pred, \"train data\")"
   ]
  }
 ],
 "metadata": {
  "kernelspec": {
   "display_name": "Python 3",
   "language": "python",
   "name": "python3"
  },
  "language_info": {
   "codemirror_mode": {
    "name": "ipython",
    "version": 3
   },
   "file_extension": ".py",
   "mimetype": "text/x-python",
   "name": "python",
   "nbconvert_exporter": "python",
   "pygments_lexer": "ipython3",
   "version": "3.5.2"
  },
  "widgets": {
   "state": {},
   "version": "1.1.2"
  }
 },
 "nbformat": 4,
 "nbformat_minor": 2
}
