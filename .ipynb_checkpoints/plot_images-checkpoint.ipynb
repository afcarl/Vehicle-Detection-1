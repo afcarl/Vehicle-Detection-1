{
 "cells": [
  {
   "cell_type": "code",
   "execution_count": 1,
   "metadata": {
    "collapsed": false
   },
   "outputs": [
    {
     "name": "stdout",
     "output_type": "stream",
     "text": [
      "/Users/kyledorman/Documents/carnd/vehicleDetection/data/small/vehicle.zip already downloaded.\n",
      "/Users/kyledorman/Documents/carnd/vehicleDetection/data/small/non-vehicle.zip already downloaded.\n",
      "/Users/kyledorman/Documents/carnd/vehicleDetection/data/small/vehicles_smallset already unzipped.\n",
      "/Users/kyledorman/Documents/carnd/vehicleDetection/data/small/non-vehicles_smallset already unzipped.\n",
      "image max: 255\n",
      "image min: 0\n",
      "image max: 255\n",
      "image min: 0\n",
      "image max: 255\n",
      "image min: 1\n",
      "image max: 255\n",
      "image min: 1\n",
      "image max: 255\n",
      "image min: 0\n",
      "image max: 255\n",
      "image min: 0\n",
      "image max: 137\n",
      "image min: 67\n",
      "image max: 137\n",
      "image min: 67\n",
      "image max: 166\n",
      "image min: 8\n",
      "image max: 166\n",
      "image min: 8\n",
      "image max: 76\n",
      "image min: 0\n",
      "image max: 76\n",
      "image min: 0\n",
      "Found 1196 vehicle images and 1125 non-vehicle images.\n",
      "Processing vehicle images.\n",
      "Processing non-vehicle images.\n"
     ]
    }
   ],
   "source": [
    "import cv2\n",
    "import numpy as np\n",
    "import matplotlib.pyplot as plt\n",
    "from mpl_toolkits.mplot3d import Axes3D\n",
    "from detection.data import load_data\n",
    "\n",
    "vehicle_imgs, non_vehicle_imgs = load_data(\"small\")\n",
    "\n",
    "def plot3d(pixels, colors_rgb,\n",
    "        axis_labels=list(\"RGB\"), axis_limits=[(0, 255), (0, 255), (0, 255)]):\n",
    "    \"\"\"Plot pixels in 3D.\"\"\"\n",
    "\n",
    "    # Create figure and 3D axes\n",
    "    fig = plt.figure(figsize=(8, 8))\n",
    "    ax = Axes3D(fig)\n",
    "\n",
    "    # Set axis limits\n",
    "    ax.set_xlim(*axis_limits[0])\n",
    "    ax.set_ylim(*axis_limits[1])\n",
    "    ax.set_zlim(*axis_limits[2])\n",
    "\n",
    "    # Set axis labels and sizes\n",
    "    ax.tick_params(axis='both', which='major', labelsize=14, pad=8)\n",
    "    ax.set_xlabel(axis_labels[0], fontsize=16, labelpad=16)\n",
    "    ax.set_ylabel(axis_labels[1], fontsize=16, labelpad=16)\n",
    "    ax.set_zlabel(axis_labels[2], fontsize=16, labelpad=16)\n",
    "\n",
    "    # Plot pixel values with colors given in colors_rgb\n",
    "    ax.scatter(\n",
    "        pixels[:, :, 0].ravel(),\n",
    "        pixels[:, :, 1].ravel(),\n",
    "        pixels[:, :, 2].ravel(),\n",
    "        c=colors_rgb.reshape((-1, 3)), edgecolors='none')\n",
    "\n",
    "    return ax  # return Axes3D object for further manipulation"
   ]
  },
  {
   "cell_type": "code",
   "execution_count": 2,
   "metadata": {
    "collapsed": false
   },
   "outputs": [
    {
     "ename": "SyntaxError",
     "evalue": "invalid syntax (<ipython-input-2-5ba5a9638029>, line 38)",
     "output_type": "error",
     "traceback": [
      "\u001b[0;36m  File \u001b[0;32m\"<ipython-input-2-5ba5a9638029>\"\u001b[0;36m, line \u001b[0;32m38\u001b[0m\n\u001b[0;31m    return np.dstack((zero, thresh_c(one, thresh), two))b\u001b[0m\n\u001b[0m                                                        ^\u001b[0m\n\u001b[0;31mSyntaxError\u001b[0m\u001b[0;31m:\u001b[0m invalid syntax\n"
     ]
    }
   ],
   "source": [
    "# Read a color image\n",
    "import random\n",
    "\n",
    "def display_image(images):\n",
    "  index = random.randint(0, len(images) -1)\n",
    "  img = images[index]\n",
    "\n",
    "  # Select a small fraction of pixels to plot by subsampling it\n",
    "  scale = max(img.shape[0], img.shape[1], 64) / 64  # at most 64 rows and columns\n",
    "  img_small = cv2.resize(img, (np.int(img.shape[1] / scale), np.int(img.shape[0] / scale)), interpolation=cv2.INTER_NEAREST)\n",
    "\n",
    "  # Convert subsampled image to desired color space(s)\n",
    "  img_small_RGB = img_small\n",
    "  img_small_HSV = cv2.cvtColor(img_small, cv2.COLOR_RGB2LUV)\n",
    "  img_small_YCrCb = cv2.cvtColor(img_small, cv2.COLOR_RGB2YCrCb)\n",
    "#   img_small_HSV = threshold(img_small_HSV, 1, (100, 255))\n",
    "#   img_small_HSV = threshold(img_small_HSV, 2, (150, 255))\n",
    "  img_small_rgb = img_small_RGB / 255.  # scaled to [0, 1], only for plotting\n",
    "\n",
    "  plt.imshow(img)\n",
    "  plt.show()\n",
    "\n",
    "  # Plot and show\n",
    "  plot3d(img_small_RGB, img_small_rgb)\n",
    "  plt.show()\n",
    "\n",
    "  plot3d(img_small_HSV, img_small_rgb, axis_labels=list(\"HSV\"))\n",
    "  plt.show()\n",
    "\n",
    "def threshold(image, channel, thresh):\n",
    "  zero = image[:,:,0]\n",
    "  one = image[:,:,1]\n",
    "  two = image[:,:,2]\n",
    "  \n",
    "  if channel == 0:\n",
    "    return np.dstack((thresh_c(zero, thresh), one, two))\n",
    "  elif channel == 1:\n",
    "    return np.dstack((zero, thresh_c(one, thresh), two))\n",
    "  elif channel == 2:\n",
    "    return np.dstack((zero, one, thresh_c(two, thresh)))\n",
    "    \n",
    "def thresh_c(c_image, thresh):\n",
    "  c_image[(c_image<=thresh[0])|(c_image>=thresh[1])] = 0\n",
    "  return c_image\n",
    "\n",
    "display_image(vehicle_imgs)\n",
    "# display_image(non_vehicle_imgs)"
   ]
  },
  {
   "cell_type": "markdown",
   "metadata": {},
   "source": [
    "It looks like cars have much higher saturation values than the rest of the world.\n",
    "An interesting threshold could be S > 100 and V >150"
   ]
  },
  {
   "cell_type": "code",
   "execution_count": null,
   "metadata": {
    "collapsed": false
   },
   "outputs": [],
   "source": [
    "from detection.shared_functions import get_hog_features\n",
    "img = vehicle_imgs[10]\n",
    "r = img[:,:,0]\n",
    "orient=9\n",
    "pix_per_cell=16\n",
    "cell_per_block=2\n",
    "featres, hog_image = get_hog_features(r, orient, cell_per_block, pix_per_cell, vis=True)\n",
    "print(img.shape)\n",
    "plt.imshow(img)\n",
    "plt.show()\n",
    "plt.imshow(hog_image, cmap='gray')\n",
    "plt.show()"
   ]
  }
 ],
 "metadata": {
  "kernelspec": {
   "display_name": "Python 3",
   "language": "python",
   "name": "python3"
  },
  "language_info": {
   "codemirror_mode": {
    "name": "ipython",
    "version": 3
   },
   "file_extension": ".py",
   "mimetype": "text/x-python",
   "name": "python",
   "nbconvert_exporter": "python",
   "pygments_lexer": "ipython3",
   "version": "3.5.2"
  },
  "widgets": {
   "state": {},
   "version": "1.1.2"
  }
 },
 "nbformat": 4,
 "nbformat_minor": 2
}
